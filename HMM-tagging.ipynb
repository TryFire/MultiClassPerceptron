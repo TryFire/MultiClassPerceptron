{
 "cells": [
  {
   "cell_type": "markdown",
   "metadata": {},
   "source": [
    "# HMM tagging"
   ]
  },
  {
   "cell_type": "code",
   "execution_count": 1,
   "metadata": {},
   "outputs": [],
   "source": [
    "import matplotlib.pyplot as plt\n",
    "import numpy as np\n",
    "\n",
    "from IPython.core.display import HTML\n",
    "from itertools import chain\n",
    "from collections import Counter, defaultdict\n",
    "#from helpers import show_model, Dataset\n",
    "from pomegranate import State, HiddenMarkovModel, DiscreteDistribution\n",
    "import json\n",
    "from ipywidgets import FloatProgress\n",
    "from IPython.display import display\n",
    "import numpy as np"
   ]
  },
  {
   "cell_type": "code",
   "execution_count": 2,
   "metadata": {},
   "outputs": [],
   "source": [
    "train_set = json.load(open('corpus/fr/fr.ftb.train.json'))\n",
    "# dev_set = json.load(open('corpus/fr/fr.pud.dev.json'))\n",
    "test_set = json.load(open('corpus/fr/fr.ftb.test.json'))"
   ]
  },
  {
   "cell_type": "code",
   "execution_count": 3,
   "metadata": {},
   "outputs": [],
   "source": [
    "def seperate_data_and_label(data_set):\n",
    "    train_dataset = []\n",
    "    train_labels = []\n",
    "    for words, labels in data_set:\n",
    "        train_dataset.append(words)\n",
    "        train_labels.append(labels)\n",
    "    return train_dataset, train_labels\n",
    "train_dataset, train_labels = seperate_data_and_label(train_set)\n",
    "test_dataset, test_labels = seperate_data_and_label(test_set)"
   ]
  },
  {
   "cell_type": "code",
   "execution_count": 4,
   "metadata": {},
   "outputs": [],
   "source": [
    "def get_all_lables(data_set):\n",
    "    res = set()\n",
    "    for words, labels in data_set:\n",
    "        res = res | set(labels)\n",
    "    return list(res)\n",
    "all_labels = get_all_lables(train_set)"
   ]
  },
  {
   "cell_type": "code",
   "execution_count": 10,
   "metadata": {},
   "outputs": [
    {
     "data": {
      "text/plain": [
       "['ADV',\n",
       " 'PART',\n",
       " 'SCONJ',\n",
       " 'PROPN',\n",
       " 'AUX',\n",
       " 'PUNCT',\n",
       " 'PRON',\n",
       " 'NUM',\n",
       " 'NOUN',\n",
       " 'X',\n",
       " 'DET',\n",
       " 'CCONJ',\n",
       " 'ADP',\n",
       " 'ADP+PRON',\n",
       " 'ADP+DET',\n",
       " 'INTJ',\n",
       " 'VERB',\n",
       " 'ADJ']"
      ]
     },
     "execution_count": 10,
     "metadata": {},
     "output_type": "execute_result"
    }
   ],
   "source": [
    "all_labels"
   ]
  },
  {
   "cell_type": "code",
   "execution_count": 5,
   "metadata": {},
   "outputs": [],
   "source": [
    "def unigram_counts(sequences):\n",
    "    \"\"\"Return a dictionary keyed to each unique value in the input sequence list that\n",
    "    counts the number of occurrences of the value in the sequences list. The sequences\n",
    "    collection should be a 2-dimensional array.\n",
    "    \n",
    "    For example, if the tag NOUN appears 275558 times over all the input sequences,\n",
    "    then you should return a dictionary such that your_unigram_counts[NOUN] == 275558.\n",
    "    \"\"\"\n",
    "    return Counter(sequences) \n",
    "\n",
    "sequences = []\n",
    "for words in train_labels:\n",
    "    sequences += words\n",
    "tag_unigram = unigram_counts(sequences)"
   ]
  },
  {
   "cell_type": "code",
   "execution_count": 6,
   "metadata": {},
   "outputs": [
    {
     "data": {
      "text/plain": [
       "93109"
      ]
     },
     "execution_count": 6,
     "metadata": {},
     "output_type": "execute_result"
    }
   ],
   "source": [
    "tag_unigram['NOUN']"
   ]
  },
  {
   "cell_type": "code",
   "execution_count": 7,
   "metadata": {},
   "outputs": [],
   "source": [
    "def bigram_counts(sequences):\n",
    "    \"\"\"Return a dictionary keyed to each unique PAIR of values in the input sequences\n",
    "    list that counts the number of occurrences of pair in the sequences list. The input\n",
    "    should be a 2-dimensional array.\n",
    "    \n",
    "    For example, if the pair of tags (NOUN, VERB) appear 61582 times, then you should\n",
    "    return a dictionary such that your_bigram_counts[(NOUN, VERB)] == 61582\n",
    "    \"\"\"\n",
    "    dict_freq = dict()\n",
    "    for sequence in sequences:\n",
    "        sequence_A, sequence_B = sequence[0:-1], sequence[1:]\n",
    "        for tag in zip(sequence_A, sequence_B):\n",
    "            if tag not in dict_freq.keys():\n",
    "                dict_freq[tag] = 1\n",
    "            else:\n",
    "                dict_freq[tag] = dict_freq[tag] + 1\n",
    "    return dict_freq\n",
    "tag_bigram = bigram_counts(train_labels)"
   ]
  },
  {
   "cell_type": "code",
   "execution_count": 13,
   "metadata": {},
   "outputs": [
    {
     "data": {
      "text/plain": [
       "324"
      ]
     },
     "execution_count": 13,
     "metadata": {},
     "output_type": "execute_result"
    }
   ],
   "source": [
    "len(tag_bigram)"
   ]
  },
  {
   "cell_type": "code",
   "execution_count": 14,
   "metadata": {},
   "outputs": [
    {
     "data": {
      "text/plain": [
       "18"
      ]
     },
     "execution_count": 14,
     "metadata": {},
     "output_type": "execute_result"
    }
   ],
   "source": [
    "len(all_labels)"
   ]
  },
  {
   "cell_type": "code",
   "execution_count": 12,
   "metadata": {},
   "outputs": [],
   "source": [
    "for tag1 in all_labels:\n",
    "    for tag2 in all_labels:\n",
    "        if not (tag1, tag2) in tag_bigram.keys():\n",
    "            tag_bigram[(tag1, tag2)] = 0"
   ]
  },
  {
   "cell_type": "code",
   "execution_count": 15,
   "metadata": {},
   "outputs": [],
   "source": [
    "def starting_counts(sequences):\n",
    "    \"\"\"Return a dictionary keyed to each unique value in the input sequences list\n",
    "    that counts the number of occurrences where that value is at the beginning of\n",
    "    a sequence.\n",
    "    \n",
    "    For example, if 8093 sequences start with NOUN, then you should return a\n",
    "    dictionary such that your_starting_counts[NOUN] == 8093\n",
    "    \"\"\"\n",
    "    dict_freq = dict()\n",
    "    \n",
    "    for tag in sequences:\n",
    "       \n",
    "        if tag[0] not in dict_freq.keys():\n",
    "            dict_freq[tag[0]] = 1\n",
    "        else:\n",
    "            dict_freq[tag[0]] = dict_freq[tag[0]] + 1\n",
    "            \n",
    "\n",
    "    return dict_freq\n",
    "tag_starts = starting_counts(train_labels)"
   ]
  },
  {
   "cell_type": "code",
   "execution_count": 16,
   "metadata": {},
   "outputs": [
    {
     "data": {
      "text/plain": [
       "{'ADV': 1136,\n",
       " 'ADP+DET': 249,\n",
       " 'DET': 4846,\n",
       " 'NOUN': 856,\n",
       " 'CCONJ': 747,\n",
       " 'ADP': 2533,\n",
       " 'PRON': 1678,\n",
       " 'PROPN': 537,\n",
       " 'PUNCT': 945,\n",
       " 'ADJ': 289,\n",
       " 'VERB': 501,\n",
       " 'X': 21,\n",
       " 'SCONJ': 228,\n",
       " 'NUM': 142,\n",
       " 'AUX': 30,\n",
       " 'INTJ': 20,\n",
       " 'ADP+PRON': 1}"
      ]
     },
     "execution_count": 16,
     "metadata": {},
     "output_type": "execute_result"
    }
   ],
   "source": [
    "tag_starts"
   ]
  },
  {
   "cell_type": "code",
   "execution_count": 17,
   "metadata": {},
   "outputs": [],
   "source": [
    "def ending_counts(sequences):\n",
    "    \"\"\"Return a dictionary keyed to each unique value in the input sequences list\n",
    "    that counts the number of occurrences where that value is at the end of\n",
    "    a sequence.\n",
    "    \n",
    "    For example, if 18 sequences end with DET, then you should return a\n",
    "    dictionary such that your_starting_counts[DET] == 18\n",
    "    \"\"\"\n",
    "    dict_freq = dict()\n",
    "    for tag in sequences:\n",
    "\n",
    "        if tag[-1] not in dict_freq.keys():\n",
    "            dict_freq[tag[-1]] = 1\n",
    "        else:\n",
    "            dict_freq[tag[-1]] = dict_freq[tag[-1]] + 1\n",
    "            \n",
    "\n",
    "    return dict_freq\n",
    "tag_ends = ending_counts(train_labels)"
   ]
  },
  {
   "cell_type": "code",
   "execution_count": 18,
   "metadata": {},
   "outputs": [
    {
     "data": {
      "text/plain": [
       "{'PUNCT': 14454,\n",
       " 'NOUN': 162,\n",
       " 'ADJ': 76,\n",
       " 'PROPN': 34,\n",
       " 'VERB': 10,\n",
       " 'NUM': 10,\n",
       " 'ADV': 9,\n",
       " 'X': 2,\n",
       " 'PRON': 2}"
      ]
     },
     "execution_count": 18,
     "metadata": {},
     "output_type": "execute_result"
    }
   ],
   "source": [
    "tag_ends"
   ]
  }
 ],
 "metadata": {
  "kernelspec": {
   "display_name": "Python 3",
   "language": "python",
   "name": "python3"
  },
  "language_info": {
   "codemirror_mode": {
    "name": "ipython",
    "version": 3
   },
   "file_extension": ".py",
   "mimetype": "text/x-python",
   "name": "python",
   "nbconvert_exporter": "python",
   "pygments_lexer": "ipython3",
   "version": "3.6.4"
  }
 },
 "nbformat": 4,
 "nbformat_minor": 2
}
